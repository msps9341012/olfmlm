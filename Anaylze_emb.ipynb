{
 "cells": [
  {
   "cell_type": "code",
   "execution_count": null,
   "id": "polish-adaptation",
   "metadata": {},
   "outputs": [],
   "source": [
    "import numpy as np\n",
    "import matplotlib.pyplot as plt\n",
    "%matplotlib inline\n",
    "from embed_utils import Finder_by_Method\n",
    "import random"
   ]
  },
  {
   "cell_type": "code",
   "execution_count": null,
   "id": "incredible-luxury",
   "metadata": {},
   "outputs": [],
   "source": [
    "!ls embeds "
   ]
  },
  {
   "cell_type": "code",
   "execution_count": null,
   "id": "connected-split",
   "metadata": {},
   "outputs": [],
   "source": [
    "import pickle\n",
    "with open('embeds/raw_val.pkl', 'rb') as handle:\n",
    "    raw_text = pickle.load(handle)\n",
    "\n",
    "total_examples=len(raw_text)"
   ]
  },
  {
   "cell_type": "code",
   "execution_count": null,
   "id": "representative-symbol",
   "metadata": {},
   "outputs": [],
   "source": [
    "finder = Finder_by_Method('max', raw_text)\n",
    "index = np.random.randint(total_examples, size=1000)\n",
    "finder.vis(index,'tsne') #or tsne"
   ]
  },
  {
   "cell_type": "markdown",
   "id": "developing-armor",
   "metadata": {},
   "source": [
    "### For each facet, find the nearset sentence across facets\n",
    "\n",
    "Considering the set of $facet_i$ as $F_i$, the output is <br>\n",
    "$max(cosine(q_1),F_i)$ <br>\n",
    "$max(cosine(q_2),F_i)$ <br>\n",
    "$max(cosine(q_3),F_i)$ <br>,\n",
    "where $q_i$ means the query sentence's $facet_i$ vector.\n"
   ]
  },
  {
   "cell_type": "code",
   "execution_count": null,
   "id": "proud-honduras",
   "metadata": {},
   "outputs": [],
   "source": [
    "choose_id = random.randint(0,total_examples-1)\n",
    "print('Query:', raw_text[choose_id])\n",
    "print('\\n')\n",
    "print(('=======Facet 1========')) #the search set\n",
    "finder.get_view_among_all(finder.finder_view_1, choose_id,[1,0,0])\n",
    "print('\\n')\n",
    "print(('=======Facet 2========'))\n",
    "finder.get_view_among_all(finder.finder_view_2, choose_id,[0,1,0])\n",
    "print('\\n')\n",
    "print(('=======Facet 3========'))\n",
    "finder.get_view_among_all(finder.finder_view_3, choose_id,[0,0,1])"
   ]
  },
  {
   "cell_type": "markdown",
   "id": "likely-quest",
   "metadata": {},
   "source": [
    "### For each facet, find the n-th nearset sentence among its set.\n",
    "\n",
    "Select a query $q_i$ from $F_i$, find the $max(cosine(q_i,F_i)$\n"
   ]
  },
  {
   "cell_type": "code",
   "execution_count": null,
   "id": "nominated-elimination",
   "metadata": {},
   "outputs": [],
   "source": [
    "n=6\n",
    "choose_id = random.randint(0,total_examples-1)\n",
    "print('Query:', raw_text[choose_id])\n",
    "print('\\n')\n",
    "\n",
    "print('=======Facet 1========')\n",
    "D,I=finder.finder_view_1.get_neighbor(choose_id,n, finder.raw_text)\n",
    "print('\\n')\n",
    "\n",
    "print('=======Facet 2========')\n",
    "D,I=finder.finder_view_2.get_neighbor(choose_id,n, finder.raw_text)\n",
    "print('\\n')\n",
    "\n",
    "print('=======Facet 3========')\n",
    "D,I=finder.finder_view_3.get_neighbor(choose_id,n,finder.raw_text)\n",
    "print('\\n')"
   ]
  }
 ],
 "metadata": {
  "kernelspec": {
   "display_name": "Python 3",
   "language": "python",
   "name": "python3"
  },
  "language_info": {
   "codemirror_mode": {
    "name": "ipython",
    "version": 3
   },
   "file_extension": ".py",
   "mimetype": "text/x-python",
   "name": "python",
   "nbconvert_exporter": "python",
   "pygments_lexer": "ipython3",
   "version": "3.8.8"
  }
 },
 "nbformat": 4,
 "nbformat_minor": 5
}
